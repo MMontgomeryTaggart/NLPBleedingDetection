{
 "cells": [
  {
   "cell_type": "code",
   "execution_count": 1,
   "metadata": {
    "collapsed": true
   },
   "outputs": [],
   "source": [
    "import re\n",
    "import nltk\n",
    "import numpy as np\n",
    "import pandas as pd\n",
    "import pickle as pkl\n",
    "from sklearn.feature_extraction.text import CountVectorizer\n",
    "from sklearn.svm import SVC\n",
    "from sklearn.model_selection import KFold\n",
    "from sklearn.metrics import roc_curve, auc\n",
    "from nltk.corpus import stopwords\n",
    "import matplotlib.pyplot as plt\n",
    "from sklearn.feature_extraction.text import TfidfVectorizer\n",
    "import string\n",
    "from sklearn.ensemble import RandomForestClassifier,ExtraTreesClassifier\n",
    "from nltk.stem.wordnet import WordNetLemmatizer\n",
    "\n",
    "import math"
   ]
  },
  {
   "cell_type": "code",
   "execution_count": 2,
   "metadata": {},
   "outputs": [
    {
     "data": {
      "text/plain": [
       "0.77272727272727271"
      ]
     },
     "execution_count": 2,
     "metadata": {},
     "output_type": "execute_result"
    }
   ],
   "source": [
    "\n",
    "\n",
    "file = open('corpus.pkl','rb')\n",
    "corpus = pkl.load(file)\n",
    "file.close()\n",
    "#corpusList = list(corpus.values())\n",
    "#labels = list(corpus.keys())\n",
    "corpusList=corpus[corpus.columns[0]].tolist()\n",
    "labels=corpus[corpus.columns[1]].tolist()\n",
    "\n",
    "\n",
    "\n",
    "## 22.7% is 1 , 77.27% is 0  this is unbalanced \n",
    "1-np.sum(labels)/len(labels) \n",
    "\n"
   ]
  },
  {
   "cell_type": "code",
   "execution_count": 5,
   "metadata": {},
   "outputs": [
    {
     "data": {
      "text/plain": [
       "450"
      ]
     },
     "execution_count": 5,
     "metadata": {},
     "output_type": "execute_result"
    }
   ],
   "source": [
    "import random\n",
    "\n",
    "# random cut off no_bleed from 765, and make dataset balanced\n",
    "rd_no_bleed = no_bleed.iloc[np.random.choice(len(no_bleed), replace=False, size=len(bleed))]\n",
    "all_data =bleed.append(rd_no_bleed, ignore_index=True)\n",
    "\n",
    "len(all_data)"
   ]
  },
  {
   "cell_type": "code",
   "execution_count": 6,
   "metadata": {
    "scrolled": false
   },
   "outputs": [
    {
     "data": {
      "text/plain": [
       "0.5"
      ]
     },
     "execution_count": 6,
     "metadata": {},
     "output_type": "execute_result"
    }
   ],
   "source": [
    "corpusList=all_data[all_data.columns[0]].tolist()\n",
    "labels=all_data[all_data.columns[1]].tolist()\n",
    "\n",
    "## 22.7% is 1 , 77.27% is 0, check if balanced \n",
    "1-np.sum(labels)/len(labels) "
   ]
  },
  {
   "cell_type": "code",
   "execution_count": 146,
   "metadata": {
    "collapsed": true
   },
   "outputs": [],
   "source": [
    "def tokenize(text):\n",
    "    tokens = [word for sent in nltk.sent_tokenize(text) for word in nltk.word_tokenize(sent)]\n",
    "    filtered_tokens = [ token for token in tokens if re.search('(^[a-zA-Z]+$)', token) ]\n",
    "    a=[]\n",
    "    for i in filtered_tokens:\n",
    "        a.append(WordNetLemmatizer().lemmatize(i,'v'))\n",
    "    return a\n",
    "    #return filtered_tokens\n",
    "\n",
    "\n",
    "cachedStopWords = stopwords.words(\"english\") + ['age','ago','also','already',\n",
    "                                                'x','year', 'old', 'man', 'woman', 'ap',\n",
    "                                                'am', 'pm', 'portable', 'pa', 'lat', \n",
    "                                                'admitting', 'diagnosis', 'lateral',\n",
    "                                               'bb','bp','c','daily','data','date','abd','abg',\n",
    "                                               'mg','ast','av','ck','cm','cr','cv','cvp','cpk','cx','day','dp','ed','f','ffp'\n",
    "                                               ,'hct','hd','icu','ii','id','ml','af','arf','bs',\n",
    "                                               'cc','ccu','hr','ef','fen','hpi','l','k','r','ra','abx'\n",
    "                                               'alk','phos','iv','ext','gi','iv','ivf','ni','ng','vs','vt','yo','yn',\n",
    "                                               'zosyn','kg','abx','alk','alt','ckmb','ct','cta','p','pe','po','c','ck','ca'\n",
    "                                               'q','cr','ni','ett','iv','g','h','j','k','l','z','x','c','v','b','n','m','i','ii',\n",
    "                                               'iii','iv','kg','lll','lvh','mb','mcg','md','ml','xl','wnl','wgt',\n",
    "                                                'q','w','e','r','t','y','u','i','o','p','first','gm','hcl','hs','hrs',\n",
    "                                               'inr','mmm','mr','mri','mrsa','ms','lf','nl','ns','nsr','sh','nt','tf','tr'\n",
    "                                               ,'wbc','plt','bcx','bph','bmp','mmhg','bps','sq','ld','ce','cbc','ckd',\n",
    "                                               'cp','cxr','cva','cvicu','dm','dr','name','ep','er','gtt','iabp','cxr',\n",
    "                                               'jvd','jvp','pt','kvo','lbs','na','nad','nd','nph','npo','osh',\n",
    "                                               ]\n"
   ]
  },
  {
   "cell_type": "code",
   "execution_count": 250,
   "metadata": {
    "scrolled": true
   },
   "outputs": [
    {
     "name": "stdout",
     "output_type": "stream",
     "text": [
      "(450, 4221)\n",
      "\n",
      "\n"
     ]
    }
   ],
   "source": [
    "\n",
    "### before one\n",
    "\n",
    "cv = TfidfVectorizer(lowercase=True, max_df=0.780, max_features=None, min_df=0.025,\n",
    "                     ngram_range=(1, 2), preprocessor=None, stop_words=\"english\",\n",
    "                     strip_accents=None, tokenizer=tokenize, vocabulary=None)\n",
    "X1 = cv.fit_transform(corpusList)\n",
    "print(X1.shape)\n",
    "print()\n",
    "lexicon = cv.get_feature_names()\n",
    "#print (lexicon)\n",
    "print()"
   ]
  },
  {
   "cell_type": "code",
   "execution_count": 348,
   "metadata": {},
   "outputs": [
    {
     "name": "stdout",
     "output_type": "stream",
     "text": [
      "(450, 121901)\n",
      "\n",
      "\n"
     ]
    }
   ],
   "source": [
    "## 121901 features, need to reduce them \n",
    "\n",
    "cv = TfidfVectorizer(lowercase=True,\n",
    "                     ngram_range=(1, 2), preprocessor=None, stop_words=cachedStopWords,\n",
    "                     strip_accents=None, tokenizer=tokenize, vocabulary=None)\n",
    "X1 = cv.fit_transform(corpusList)\n",
    "print(X1.shape)\n",
    "print()\n",
    "lexicon = cv.get_feature_names()\n",
    "#print (lexicon)\n",
    "print()"
   ]
  },
  {
   "cell_type": "code",
   "execution_count": 349,
   "metadata": {},
   "outputs": [],
   "source": [
    "x=X1  ## for select fetures "
   ]
  },
  {
   "cell_type": "code",
   "execution_count": 350,
   "metadata": {
    "scrolled": true
   },
   "outputs": [
    {
     "data": {
      "text/plain": [
       "array([1, 1, 1, 1, 1, 1, 1, 1, 1, 1, 1, 1, 1, 1, 1, 1, 1, 1, 1, 1, 1, 1, 1,\n",
       "       1, 1, 1, 1, 1, 1, 1, 1, 1, 1, 1, 1, 1, 1, 1, 1, 1, 1, 1, 1, 1, 1, 1,\n",
       "       1, 1, 1, 1, 1, 1, 1, 1, 1, 1, 1, 1, 1, 1, 1, 1, 1, 1, 1, 1, 1, 1, 1,\n",
       "       1, 1, 1, 1, 1, 1, 1, 1, 1, 1, 1, 1, 1, 1, 1, 1, 1, 1, 1, 1, 1, 1, 1,\n",
       "       1, 1, 1, 1, 1, 1, 1, 1, 1, 1, 1, 1, 1, 1, 1, 1, 1, 1, 1, 1, 1, 1, 1,\n",
       "       1, 1, 1, 1, 1, 1, 1, 1, 1, 1, 1, 1, 1, 1, 1, 1, 1, 1, 1, 1, 1, 1, 1,\n",
       "       1, 1, 1, 1, 1, 1, 1, 1, 1, 1, 1, 1, 1, 1, 1, 1, 1, 1, 1, 1, 1, 1, 1,\n",
       "       1, 1, 1, 1, 1, 1, 1, 1, 1, 1, 1, 1, 1, 1, 1, 1, 1, 1, 1, 1, 1, 1, 1,\n",
       "       1, 1, 1, 1, 1, 1, 1, 1, 1, 1, 1, 1, 1, 1, 1, 1, 1, 1, 1, 1, 1, 1, 1,\n",
       "       1, 1, 1, 1, 1, 1, 1, 1, 1, 1, 1, 1, 1, 1, 1, 1, 1, 1, 0, 0, 0, 0, 0,\n",
       "       0, 0, 0, 0, 0, 0, 0, 0, 0, 0, 0, 0, 0, 0, 0, 0, 0, 0, 0, 0, 0, 0, 0,\n",
       "       0, 0, 0, 0, 0, 0, 0, 0, 0, 0, 0, 0, 0, 0, 0, 0, 0, 0, 0, 0, 0, 0, 0,\n",
       "       0, 0, 0, 0, 0, 0, 0, 0, 0, 0, 0, 0, 0, 0, 0, 0, 0, 0, 0, 0, 0, 0, 0,\n",
       "       0, 0, 0, 0, 0, 0, 0, 0, 0, 0, 0, 0, 0, 0, 0, 0, 0, 0, 0, 0, 0, 0, 0,\n",
       "       0, 0, 0, 0, 0, 0, 0, 0, 0, 0, 0, 0, 0, 0, 0, 0, 0, 0, 0, 0, 0, 0, 0,\n",
       "       0, 0, 0, 0, 0, 0, 0, 0, 0, 0, 0, 0, 0, 0, 0, 0, 0, 0, 0, 0, 0, 0, 0,\n",
       "       0, 0, 0, 0, 0, 0, 0, 0, 0, 0, 0, 0, 0, 0, 0, 0, 0, 0, 0, 0, 0, 0, 0,\n",
       "       0, 0, 0, 0, 0, 0, 0, 0, 0, 0, 0, 0, 0, 0, 0, 0, 0, 0, 0, 0, 0, 0, 0,\n",
       "       0, 0, 0, 0, 0, 0, 0, 0, 0, 0, 0, 0, 0, 0, 0, 0, 0, 0, 0, 0, 0, 0, 0,\n",
       "       0, 0, 0, 0, 0, 0, 0, 0, 0, 0, 0, 0, 0])"
      ]
     },
     "execution_count": 350,
     "metadata": {},
     "output_type": "execute_result"
    }
   ],
   "source": [
    "Y = np.array(labels)"
   ]
  },
  {
   "cell_type": "code",
   "execution_count": 392,
   "metadata": {},
   "outputs": [
    {
     "name": "stdout",
     "output_type": "stream",
     "text": [
      "(450, 121901)\n"
     ]
    },
    {
     "data": {
      "text/plain": [
       "(450, 2000)"
      ]
     },
     "execution_count": 392,
     "metadata": {},
     "output_type": "execute_result"
    }
   ],
   "source": [
    "## use selectkbest by chi2, I choose 2000 features from 121901.\n",
    "\n",
    "\n",
    "from sklearn.feature_selection import SelectKBest\n",
    "from sklearn.feature_selection import chi2\n",
    "\n",
    "print(x.shape)\n",
    "\n",
    "X_new = SelectKBest(chi2, k=2000).fit_transform(x, Y)\n",
    "X_new.shape\n"
   ]
  },
  {
   "cell_type": "code",
   "execution_count": 393,
   "metadata": {},
   "outputs": [
    {
     "data": {
      "text/plain": [
       "(450, 2000)"
      ]
     },
     "execution_count": 393,
     "metadata": {},
     "output_type": "execute_result"
    }
   ],
   "source": [
    "X=X_new        # make unque name for next cell \n",
    "X_new.shape"
   ]
  },
  {
   "cell_type": "code",
   "execution_count": 401,
   "metadata": {
    "scrolled": false
   },
   "outputs": [
    {
     "name": "stdout",
     "output_type": "stream",
     "text": [
      "model  0 : ExtraTreesClassifier = 100\n",
      "   Fold 1 accuracy: 86.67 %\n",
      "   Fold 2 accuracy: 93.33 %\n",
      "   Fold 3 accuracy: 86.67 %\n",
      "   Fold 4 accuracy: 93.33 %\n",
      "   Fold 5 accuracy: 91.11 %\n",
      "   Fold 6 accuracy: 84.44 %\n",
      "   Fold 7 accuracy: 80.00 %\n",
      "   Fold 8 accuracy: 88.89 %\n",
      "   Fold 9 accuracy: 84.44 %\n",
      "   Fold 10 accuracy: 80.00 %\n",
      "     Overall test accuracy: 86.89 %\n",
      "     Overall training accuracy: 100.00 %\n"
     ]
    }
   ],
   "source": [
    "#ExtraTreesClassifier(bootstrap=False, class_weight='balanced',\n",
    "        #   criterion='gini', max_depth=None, max_features='auto',\n",
    "        #   max_leaf_nodes=None, min_impurity_split=1e-07,\n",
    "        #   min_samples_leaf=1, min_samples_split=2,\n",
    "        #   min_weight_fraction_leaf=0.0, n_estimators=10, n_jobs=1,\n",
    "        #   oob_score=False, random_state=None, verbose=0, warm_start=False)\n",
    "        \n",
    "#ExtraTreesClassifier(bootstrap=False,\n",
    "#           criterion='gini', max_depth=None, max_features=0.75421,class_weight='balanced',\n",
    "#           max_leaf_nodes=None, min_impurity_decrease=1e-05,\n",
    "#           min_samples_leaf=2, min_samples_split=2,\n",
    "#           min_weight_fraction_leaf=0.0, n_estimators=70, n_jobs=-1,\n",
    "#           oob_score=False, random_state=None, verbose=0, warm_start=False)\n",
    "        \n",
    "        \n",
    "        \n",
    "        \n",
    "model=0\n",
    "results = []\n",
    "cont = []\n",
    "kf = KFold(n_splits=10, shuffle=True)\n",
    "trees = [ 100]\n",
    "for t in range(len(trees)):\n",
    "    fold = 1\n",
    "    truth = []\n",
    "    rf_prediction = []\n",
    "    print(\"model \", t, \": ExtraTreesClassifier = \" + str(trees[t]))\n",
    "    test_count = 0\n",
    "    rf = ExtraTreesClassifier(bootstrap=False,\n",
    "           criterion='gini', max_depth=None, max_features=0.75,\n",
    "           max_leaf_nodes=None, min_impurity_decrease=1e-05,\n",
    "           min_samples_leaf=1, min_samples_split=2,\n",
    "           min_weight_fraction_leaf=0.0, n_estimators=80, n_jobs=-1,\n",
    "           oob_score=False, random_state=None, verbose=0, warm_start=False)\n",
    "    for train_idx, test_idx in kf.split(X):\n",
    "        trainX = X[train_idx]\n",
    "        trainY = Y[train_idx]\n",
    "        testX = X[test_idx]\n",
    "        testY = Y[test_idx]\n",
    "        truth.append(testY)\n",
    "        rf.fit(trainX, trainY)\n",
    "        Y_hat = rf.predict(testX)\n",
    "        rf_prediction.append(Y_hat)\n",
    "        print(\"   Fold %d accuracy: %.2f %%\" % (fold, ((np.sum(Y_hat == testY)/len(testY)) * 100.0)))                        \n",
    "        fold += 1\n",
    "    truth = np.concatenate(truth, axis=0)    \n",
    "    rf_prediction = np.concatenate(rf_prediction, axis=0)\n",
    "    test_results = np.sum(rf_prediction == truth)/len(truth)\n",
    "    print(\"     Overall test accuracy: %.2f %%\" % (test_results * 100))  \n",
    "    rf = rf.fit(X, Y)\n",
    "    Y_hat = rf.predict(X)\n",
    "    train_results = np.sum(Y_hat == Y)/len(Y)\n",
    "    print(\"     Overall training accuracy: %.2f %%\" % (train_results * 100.0))  \n",
    "    results.append([train_results, test_results])   \n",
    "    cont.append([truth, rf_prediction])\n",
    "    \n",
    "    \n",
    "    \n",
    "### this case is not 88%, it will be a liitle bit diffenet. but not too much "
   ]
  },
  {
   "cell_type": "code",
   "execution_count": 402,
   "metadata": {},
   "outputs": [
    {
     "name": "stdout",
     "output_type": "stream",
     "text": [
      "Enter Best Model: 0\n",
      "\n",
      "Random Forest\n",
      "       Other  PNA  Total\n",
      "Other    188   22    210\n",
      "PNA       37  203    240\n",
      "Total    225  225    450\n",
      "\n"
     ]
    }
   ],
   "source": [
    "model = input(\"Enter Best Model: \")\n",
    "best = cont[int(model)]\n",
    "rf_ct = pd.crosstab(best[1], best[0], margins=True)\n",
    "rf_ct.columns = [\"Other\", \"PNA\", \"Total\"]\n",
    "rf_ct.index = [\"Other\", \"PNA\", \"Total\"]\n",
    "print()\n",
    "print(\"Random Forest\")\n",
    "print(rf_ct)\n",
    "print()\n"
   ]
  },
  {
   "cell_type": "code",
   "execution_count": 403,
   "metadata": {},
   "outputs": [
    {
     "name": "stdout",
     "output_type": "stream",
     "text": [
      "[[188  37]\n",
      " [ 22 203]]\n",
      "0.87311827957\n",
      "0.902222222222\n",
      "0.845833333333\n",
      "0.868888888889\n",
      "             precision    recall  f1-score   support\n",
      "\n",
      "          0       0.90      0.84      0.86       225\n",
      "          1       0.85      0.90      0.87       225\n",
      "\n",
      "avg / total       0.87      0.87      0.87       450\n",
      "\n"
     ]
    }
   ],
   "source": [
    "from sklearn.metrics import confusion_matrix\n",
    "from sklearn.metrics import recall_score,f1_score,precision_score,accuracy_score,classification_report\n",
    "y_true =cont[int(model)][0]\n",
    "y_pred = cont[int(model)][1]\n",
    "print(confusion_matrix(y_true, y_pred))\n",
    "print(f1_score(y_true, y_pred) )\n",
    "\n",
    "\n",
    "\n",
    "print(recall_score(y_true, y_pred),   )\n",
    "print(precision_score(y_true, y_pred))\n",
    "print(accuracy_score(y_true, y_pred))\n",
    "\n",
    "print(classification_report(y_true, y_pred))\n"
   ]
  },
  {
   "cell_type": "code",
   "execution_count": 404,
   "metadata": {},
   "outputs": [
    {
     "name": "stdout",
     "output_type": "stream",
     "text": [
      "Random Forest: Sensitivity: 0.90222 Specificity: 0.83556 PPV: 0.84583 NPV: 0.89524 Accuracy: 0.86889\n"
     ]
    }
   ],
   "source": [
    "\n",
    "Sens = rf_ct.iloc[1][1]/rf_ct.iloc[2][1]\n",
    "Spec = rf_ct.iloc[0][0]/rf_ct.iloc[2][0]\n",
    "PPV = rf_ct.iloc[1][1]/rf_ct.iloc[1][2]\n",
    "NPV = rf_ct.iloc[0][0]/rf_ct.iloc[0][2]\n",
    "ACC = (rf_ct.iloc[0][0] + rf_ct.iloc[1][1]) / rf_ct.iloc[2][2]\n",
    "print(\"Random Forest: Sensitivity: %.5f Specificity: %.5f PPV: %.5f NPV: %.5f Accuracy: %.5f\" % (Sens, Spec, PPV, NPV, ACC))"
   ]
  },
  {
   "cell_type": "code",
   "execution_count": 405,
   "metadata": {},
   "outputs": [
    {
     "data": {
      "image/png": "[encoded data removed]",
      "text/plain": [
       "<matplotlib.figure.Figure at 0x13a3ccb00>"
      ]
     },
     "metadata": {},
     "output_type": "display_data"
    },
    {
     "name": "stdout",
     "output_type": "stream",
     "text": [
      "AUC =  0.868888888889\n"
     ]
    }
   ],
   "source": [
    "\n",
    "rf_fpr, rf_tpr, rf_thresholds = roc_curve(best[0], best[1], pos_label=1)\n",
    "roc_auc = auc(rf_fpr, rf_tpr)\n",
    "plt.figure(1)\n",
    "plt.plot([0, 1], [0, 1], 'k--')\n",
    "plt.plot(rf_fpr, rf_tpr, label='Random Forest')\n",
    "plt.xlabel('False positive rate (1 - Specificity)')\n",
    "plt.ylabel('True Positive Rate (Sensitivity)')\n",
    "plt.title('ROC curve')\n",
    "plt.legend(loc='best')\n",
    "plt.show()\n",
    "print(\"AUC = \", roc_auc)"
   ]
  },
  {
   "cell_type": "code",
   "execution_count": 11,
   "metadata": {},
   "outputs": [
    {
     "name": "stdout",
     "output_type": "stream",
     "text": [
      "train_index:[ 3  4  5  6  7  8  9 10 11] , test_index: [0 1 2] \n",
      "train_index:[ 0  1  2  6  7  8  9 10 11] , test_index: [3 4 5] \n",
      "train_index:[ 0  1  2  3  4  5  9 10 11] , test_index: [6 7 8] \n",
      "train_index:[0 1 2 3 4 5 6 7 8] , test_index: [ 9 10 11] \n"
     ]
    }
   ],
   "source": [
    "from sklearn.model_selection import KFold  \n",
    "import numpy as np  \n",
    "X = np.arange(24).reshape(12,2)  \n",
    "y = np.random.choice([1,2],12,p=[0.4,0.6])  \n",
    "kf = KFold(n_splits=4,shuffle=False)  \n",
    "for train_index , test_index in kf.split(X):  \n",
    "    print('train_index:%s , test_index: %s ' %(train_index,test_index)) "
   ]
  }
 ],
 "metadata": {
  "kernelspec": {
   "display_name": "Python 3",
   "language": "python",
   "name": "python3"
  },
  "language_info": {
   "codemirror_mode": {
    "name": "ipython",
    "version": 3
   },
   "file_extension": ".py",
   "mimetype": "text/x-python",
   "name": "python",
   "nbconvert_exporter": "python",
   "pygments_lexer": "ipython3",
   "version": "3.6.4"
  }
 },
 "nbformat": 4,
 "nbformat_minor": 2
}
